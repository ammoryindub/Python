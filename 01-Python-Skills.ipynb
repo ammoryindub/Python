{
 "cells": [
  {
   "cell_type": "markdown",
   "id": "c8d8c223",
   "metadata": {},
   "source": [
    "# Python Skills"
   ]
  },
  {
   "cell_type": "markdown",
   "id": "8a7ee2e7",
   "metadata": {},
   "source": [
    "Have few challenges that we will approach to solve with Python code!."
   ]
  },
  {
   "cell_type": "markdown",
   "id": "30efd77d",
   "metadata": {},
   "source": [
    "#### X to the power of n  "
   ]
  },
  {
   "cell_type": "code",
   "execution_count": 1,
   "id": "c80f2b3c",
   "metadata": {},
   "outputs": [
    {
     "name": "stdout",
     "output_type": "stream",
     "text": [
      "42998169600000000\n"
     ]
    }
   ],
   "source": [
    "t = 120 ** 8\n",
    "print (t)"
   ]
  },
  {
   "cell_type": "code",
   "execution_count": 2,
   "id": "dcc6f626",
   "metadata": {},
   "outputs": [
    {
     "data": {
      "text/plain": [
       "256"
      ]
     },
     "execution_count": 2,
     "metadata": {},
     "output_type": "execute_result"
    }
   ],
   "source": [
    "4 ** 4"
   ]
  },
  {
   "cell_type": "markdown",
   "id": "992daddd",
   "metadata": {},
   "source": [
    "#### using a string and split it into list "
   ]
  },
  {
   "cell_type": "code",
   "execution_count": 3,
   "id": "93eff149",
   "metadata": {},
   "outputs": [
    {
     "data": {
      "text/plain": [
       "['Hello', 'World!']"
      ]
     },
     "execution_count": 3,
     "metadata": {},
     "output_type": "execute_result"
    }
   ],
   "source": [
    "t = \"Hello World!\"\n",
    "t.split()"
   ]
  },
  {
   "cell_type": "markdown",
   "id": "cb08e90c",
   "metadata": {},
   "source": [
    "#### Using given variables into a code using .format"
   ]
  },
  {
   "cell_type": "code",
   "execution_count": 4,
   "id": "e86ebfcf",
   "metadata": {},
   "outputs": [],
   "source": [
    "# varibales  are :\n",
    "\n",
    "E = \"Energy\" \n",
    "m = \"mass\"\n",
    "c = \"speed of light\"\n"
   ]
  },
  {
   "cell_type": "code",
   "execution_count": 5,
   "id": "9decf7fd",
   "metadata": {},
   "outputs": [
    {
     "name": "stdout",
     "output_type": "stream",
     "text": [
      "To explain the meaning of E = mc**2, where Energy = mass X speed of light squared\n"
     ]
    }
   ],
   "source": [
    "print ('To explain the meaning of E = mc**2, where {} = {} X {} squared'.format(E,m,c))"
   ]
  },
  {
   "cell_type": "markdown",
   "id": "38bff5a0",
   "metadata": {},
   "source": [
    "#### Given this nested list, use indexing to grab the word \"hello\""
   ]
  },
  {
   "cell_type": "code",
   "execution_count": 6,
   "id": "ba91f654",
   "metadata": {},
   "outputs": [],
   "source": [
    "# different value lists nested in one list :\n",
    "\n",
     "# note that we break it down to show code steps, usually we can use the last code directly to locate 'hello'!\n",
    "\n",
    "lst = [1,2,[30,40],[100,[1000,2000,['hello']],300,400],5,6]"
   ]
  },
  {
   "cell_type": "code",
   "execution_count": 7,
   "id": "c4fd1cb6",
   "metadata": {},
   "outputs": [
    {
     "data": {
      "text/plain": [
       "[100, [1000, 2000, ['hello']], 300, 400]"
      ]
     },
     "execution_count": 7,
     "metadata": {},
     "output_type": "execute_result"
    }
   ],
   "source": [
    "lst[3]"
   ]
  },
  {
   "cell_type": "code",
   "execution_count": 8,
   "id": "1fc6cd60",
   "metadata": {},
   "outputs": [
    {
     "data": {
      "text/plain": [
       "[1000, 2000, ['hello']]"
      ]
     },
     "execution_count": 8,
     "metadata": {},
     "output_type": "execute_result"
    }
   ],
   "source": [
    "lst[3][1]"
   ]
  },
  {
   "cell_type": "code",
   "execution_count": 9,
   "id": "8ee56816",
   "metadata": {},
   "outputs": [
    {
     "data": {
      "text/plain": [
       "['hello']"
      ]
     },
     "execution_count": 9,
     "metadata": {},
     "output_type": "execute_result"
    }
   ],
   "source": [
    "lst[3][1][2]"
   ]
  },
  {
   "cell_type": "markdown",
   "id": "b845a50c",
   "metadata": {},
   "source": [
    "#### Given this nested dictionary grab the word \"hello\""
   ]
  },
  {
   "cell_type": "code",
   "execution_count": 10,
   "id": "e061c187",
   "metadata": {},
   "outputs": [],
   "source": [
    "# we have a dictionary with various values  :\n",
    "\n",
    "d = {'k1':[1,2,3,{'k2':['oh','my','gosh',{'k3':[1,2,3,'hello']}]}]}"
   ]
  },
  {
   "cell_type": "code",
   "execution_count": 11,
   "id": "3a6abe24",
   "metadata": {},
   "outputs": [
    {
     "data": {
      "text/plain": [
       "[1, 2, 3, {'k2': ['oh', 'my', 'gosh', {'k3': [1, 2, 3, 'hello']}]}]"
      ]
     },
     "execution_count": 11,
     "metadata": {},
     "output_type": "execute_result"
    }
   ],
   "source": [
    "d['k1']"
   ]
  },
  {
   "cell_type": "code",
   "execution_count": 12,
   "id": "bea21133",
   "metadata": {},
   "outputs": [
    {
     "data": {
      "text/plain": [
       "{'k2': ['oh', 'my', 'gosh', {'k3': [1, 2, 3, 'hello']}]}"
      ]
     },
     "execution_count": 12,
     "metadata": {},
     "output_type": "execute_result"
    }
   ],
   "source": [
    "d['k1'][3]"
   ]
  },
  {
   "cell_type": "code",
   "execution_count": 13,
   "id": "e7e8c501",
   "metadata": {},
   "outputs": [
    {
     "data": {
      "text/plain": [
       "['oh', 'my', 'gosh', {'k3': [1, 2, 3, 'hello']}]"
      ]
     },
     "execution_count": 13,
     "metadata": {},
     "output_type": "execute_result"
    }
   ],
   "source": [
    "d['k1'][3]['k2']"
   ]
  },
  {
   "cell_type": "code",
   "execution_count": 14,
   "id": "8fa75892",
   "metadata": {},
   "outputs": [
    {
     "data": {
      "text/plain": [
       "{'k3': [1, 2, 3, 'hello']}"
      ]
     },
     "execution_count": 14,
     "metadata": {},
     "output_type": "execute_result"
    }
   ],
   "source": [
    "d['k1'][3]['k2'][3]"
   ]
  },
  {
   "cell_type": "code",
   "execution_count": 15,
   "id": "97855f8b",
   "metadata": {},
   "outputs": [
    {
     "data": {
      "text/plain": [
       "[1, 2, 3, 'hello']"
      ]
     },
     "execution_count": 15,
     "metadata": {},
     "output_type": "execute_result"
    }
   ],
   "source": [
    "d['k1'][3]['k2'][3]['k3']"
   ]
  },
  {
   "cell_type": "code",
   "execution_count": 16,
   "id": "a2f9940e",
   "metadata": {},
   "outputs": [
    {
     "data": {
      "text/plain": [
       "'hello'"
      ]
     },
     "execution_count": 16,
     "metadata": {},
     "output_type": "execute_result"
    }
   ],
   "source": [
    "d['k1'][3]['k2'][3]['k3'][3]"
   ]
  },
  {
   "cell_type": "markdown",
   "id": "f8b62569",
   "metadata": {},
   "source": [
    "#### the main difference between a tuple and a list"
   ]
  },
  {
   "cell_type": "code",
   "execution_count": 17,
   "id": "f2d90ae5",
   "metadata": {},
   "outputs": [],
   "source": [
    "# list is mutable  while a tuple is immutable "
   ]
  },
  {
   "cell_type": "markdown",
   "id": "408123af",
   "metadata": {},
   "source": [
    "#### function that grabs the website domain from an email"
   ]
  },
  {
   "cell_type": "code",
   "execution_count": 18,
   "id": "ee83062a",
   "metadata": {},
   "outputs": [],
   "source": [
    "def get(email):\n",
    "    return email.split('@')[1]"
   ]
  },
  {
   "cell_type": "code",
   "execution_count": 19,
   "id": "fec65c55",
   "metadata": {},
   "outputs": [
    {
     "data": {
      "text/plain": [
       "'test.com'"
      ]
     },
     "execution_count": 19,
     "metadata": {},
     "output_type": "execute_result"
    }
   ],
   "source": [
    "get('test@test.com')"
   ]
  },
  {
   "cell_type": "markdown",
   "id": "ff271874",
   "metadata": {},
   "source": [
    "#### function finds me if a certain word is in a string"
   ]
  },
  {
   "cell_type": "code",
   "execution_count": 20,
   "id": "60e45e6a",
   "metadata": {},
   "outputs": [],
   "source": [
    "def find(s):\n",
    "    return 'hello' in s.lower().split()"
   ]
  },
  {
   "cell_type": "code",
   "execution_count": 21,
   "id": "aeec6781",
   "metadata": {},
   "outputs": [],
   "source": [
    "s = 'Hello there anyone home?'"
   ]
  },
  {
   "cell_type": "code",
   "execution_count": 22,
   "id": "409d406d",
   "metadata": {},
   "outputs": [
    {
     "data": {
      "text/plain": [
       "'hello there anyone home?'"
      ]
     },
     "execution_count": 22,
     "metadata": {},
     "output_type": "execute_result"
    }
   ],
   "source": [
    "s.lower()"
   ]
  },
  {
   "cell_type": "code",
   "execution_count": 23,
   "id": "9ad89942",
   "metadata": {},
   "outputs": [
    {
     "data": {
      "text/plain": [
       "['Hello', 'there', 'anyone', 'home?']"
      ]
     },
     "execution_count": 23,
     "metadata": {},
     "output_type": "execute_result"
    }
   ],
   "source": [
    "s.split()"
   ]
  },
  {
   "cell_type": "code",
   "execution_count": 24,
   "id": "8ef2c32b",
   "metadata": {},
   "outputs": [
    {
     "data": {
      "text/plain": [
       "True"
      ]
     },
     "execution_count": 24,
     "metadata": {},
     "output_type": "execute_result"
    }
   ],
   "source": [
    "find ('Hello there anyone home?')"
   ]
  },
  {
   "cell_type": "markdown",
   "id": "9d306c95",
   "metadata": {},
   "source": [
    "#### function counts how many times a word occurs in a string "
   ]
  },
  {
   "cell_type": "code",
   "execution_count": 25,
   "id": "9fd1b12d",
   "metadata": {},
   "outputs": [],
   "source": [
    "def count(w):\n",
    "    count = 0\n",
    "    for word in w.lower().split():\n",
    "        if word == 'he':\n",
    "            count = count+1\n",
    "    return count"
   ]
  },
  {
   "cell_type": "code",
   "execution_count": 26,
   "id": "9efc4f05",
   "metadata": {},
   "outputs": [
    {
     "data": {
      "text/plain": [
       "2"
      ]
     },
     "execution_count": 26,
     "metadata": {},
     "output_type": "execute_result"
    }
   ],
   "source": [
    "count ('he loves me becasue after our date he bought me flowers')"
   ]
  },
  {
   "cell_type": "markdown",
   "id": "63de92d7",
   "metadata": {},
   "source": [
    "#### Use lambda expressions and the filter() function to filter out words from a list that start with the letter 'o'"
   ]
  },
  {
   "cell_type": "code",
   "execution_count": 27,
   "id": "3ca41f2e",
   "metadata": {},
   "outputs": [],
   "source": [
    "\n",
    "seq =['apple','orange','onion','grapes','potato']"
   ]
  },
  {
   "cell_type": "code",
   "execution_count": 28,
   "id": "38556302",
   "metadata": {},
   "outputs": [
    {
     "data": {
      "text/plain": [
       "<filter at 0x7fcb7cf19370>"
      ]
     },
     "execution_count": 28,
     "metadata": {},
     "output_type": "execute_result"
    }
   ],
   "source": [
    "filter (lambda word: word[0]=='o',seq)"
   ]
  },
  {
   "cell_type": "code",
   "execution_count": 29,
   "id": "9dd7e19f",
   "metadata": {},
   "outputs": [
    {
     "data": {
      "text/plain": [
       "['orange', 'onion']"
      ]
     },
     "execution_count": 29,
     "metadata": {},
     "output_type": "execute_result"
    }
   ],
   "source": [
    "list(filter(lambda word: word[0]=='o', seq))"
   ]
  },
  {
   "cell_type": "markdown",
   "id": "0bbfa79c",
   "metadata": {},
   "source": [
    "#### Write a function to return one of 3 possible results: If your speed is 60 or less, the result is \"No Ticket\". If speed is between 61 and 80 inclusive, the result is \"Small Ticket\". If speed is 81 or more, the result is \"Big Ticket\". "
   ]
  },
  {
   "cell_type": "code",
   "execution_count": 35,
   "id": "04c12f26",
   "metadata": {},
   "outputs": [],
   "source": [
    "def ticket(speed):\n",
    "    if speed > 80:\n",
    "        return 'Big Ticket'\n",
    "    elif speed > 60:\n",
    "        return 'Small Ticket'\n",
    "    else:\n",
    "        return 'No Ticekt'"
   ]
  },
  {
   "cell_type": "code",
   "execution_count": 36,
   "id": "8c8b9d0b",
   "metadata": {},
   "outputs": [
    {
     "data": {
      "text/plain": [
       "'No Ticekt'"
      ]
     },
     "execution_count": 36,
     "metadata": {},
     "output_type": "execute_result"
    }
   ],
   "source": [
    "ticket (50)"
   ]
  },
  {
   "cell_type": "code",
   "execution_count": 37,
   "id": "488497fd",
   "metadata": {},
   "outputs": [
    {
     "data": {
      "text/plain": [
       "'Small Ticket'"
      ]
     },
     "execution_count": 37,
     "metadata": {},
     "output_type": "execute_result"
    }
   ],
   "source": [
    "ticket (70)"
   ]
  },
  {
   "cell_type": "code",
   "execution_count": 38,
   "id": "34f4c449",
   "metadata": {},
   "outputs": [
    {
     "data": {
      "text/plain": [
       "'Big Ticket'"
      ]
     },
     "execution_count": 38,
     "metadata": {},
     "output_type": "execute_result"
    }
   ],
   "source": [
    "ticket (100)"
   ]
  },
  {
   "cell_type": "code",
   "execution_count": null,
   "id": "57481898",
   "metadata": {},
   "outputs": [],
   "source": []
  }
 ],
 "metadata": {
  "kernelspec": {
   "display_name": "Python 3 (ipykernel)",
   "language": "python",
   "name": "python3"
  },
  "language_info": {
   "codemirror_mode": {
    "name": "ipython",
    "version": 3
   },
   "file_extension": ".py",
   "mimetype": "text/x-python",
   "name": "python",
   "nbconvert_exporter": "python",
   "pygments_lexer": "ipython3",
   "version": "3.9.7"
  }
 },
 "nbformat": 4,
 "nbformat_minor": 5
}
